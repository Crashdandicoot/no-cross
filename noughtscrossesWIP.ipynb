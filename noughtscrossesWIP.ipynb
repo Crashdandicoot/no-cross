{
 "cells": [
  {
   "cell_type": "code",
   "execution_count": null,
   "metadata": {},
   "outputs": [],
   "source": [
    "# Setting up default values for variables/assigning more human readable names for list postions corresponding to board spaces\n",
    "pos_list = [[\" \",\" \",\" \"],[\" \",\" \",\" \"],[\" \",\" \",\" \"]]    #stores the board state as 3x3 grid\n",
    "pos_values = {\"A1\":(0,0),\"A2\":(0,1),\"A3\":(0,2),\"B1\":(1,0),\"B2\":(1,1),\"B3\":(1,2),\"C1\":(2,0),\"C2\":(2,1),\"C3\":(2,2)}\n",
    "p1 = \"\"                #These store players symbol choice allowing either player to be either noughts or crosses\n",
    "p2 = \"\"                #ditto for p2"
   ]
  },
  {
   "cell_type": "code",
   "execution_count": null,
   "metadata": {},
   "outputs": [],
   "source": [
    "def show_board():              #Self evident I would hope. Just displays a board with the current stored list info\n",
    "    \n",
    "    print(\"         |         |         |         \")\n",
    "    print(\"         |    A    |    B    |    C    \")\n",
    "    print(\"         |         |         |         \")\n",
    "    print(\"---------------------------------------\")\n",
    "    print(\"         |         |         |         \")\n",
    "    print(f\"    1    |    {pos_list[0][0]}    |    {pos_list[1][0]}    |    {pos_list[2][0]}    \")\n",
    "    print(\"         |         |         |         \")\n",
    "    print(\"---------------------------------------\")\n",
    "    print(\"         |         |         |         \")\n",
    "    print(f\"    2    |    {pos_list[0][1]}    |    {pos_list[1][1]}    |    {pos_list[2][1]}    \")\n",
    "    print(\"         |         |         |         \")\n",
    "    print(\"---------------------------------------\")\n",
    "    print(\"         |         |         |         \")\n",
    "    print(f\"    3    |    {pos_list[0][2]}    |    {pos_list[1][2]}    |    {pos_list[2][2]}    \")\n",
    "    print(\"         |         |         |         \")"
   ]
  },
  {
   "cell_type": "code",
   "execution_count": null,
   "metadata": {},
   "outputs": [],
   "source": [
    "def updater(new_move,team):         #Takes the position choice made by player as well as their team symbol, then updates board\n",
    "    pos_list[pos_values[new_move][0]][pos_values[new_move][1]] = team #Translating human readable position to list index\n",
    "    show_board()"
   ]
  },
  {
   "cell_type": "code",
   "execution_count": null,
   "metadata": {},
   "outputs": [],
   "source": [
    "def inp_check(inp):                #checking the players position choice to make sure it is not full or invalid\n",
    "    new_move = inp\n",
    "    while True:\n",
    "        if new_move not in pos_values.keys():      #checking that choice is only one of the accepted position names\n",
    "            print('Please only type a valid position on the board using the shown rows/columns (e.g. \"A1\" or \"B3\")')\n",
    "            new_move = input(\"Choose a position to fill: \")\n",
    "        elif pos_list[pos_values[new_move][0]][pos_values[new_move][1]] != \" \":       #checking position is not already full\n",
    "            print('That position has already been filled!')\n",
    "            new_move = input(\"Choose a position to fill: \")\n",
    "        else:\n",
    "            return new_move\n",
    "    "
   ]
  },
  {
   "cell_type": "code",
   "execution_count": null,
   "metadata": {},
   "outputs": [],
   "source": [
    "def win_check():\n",
    "    if pos_list[0][0] + pos_list[1][0] + pos_list[2][0] in (\"XXX\",\"OOO\"):\n",
    "        return True\n",
    "    if pos_list[0][1] + pos_list[1][1] + pos_list[2][1] in (\"XXX\",\"OOO\"):\n",
    "        return True\n",
    "    if pos_list[0][2] + pos_list[1][2] + pos_list[2][2] in (\"XXX\",\"OOO\"):\n",
    "        return True\n",
    "    if pos_list[0][0] + pos_list[0][1] + pos_list[0][2] in (\"XXX\",\"OOO\"):\n",
    "        return True\n",
    "    if pos_list[1][0] + pos_list[1][1] + pos_list[1][2] in (\"XXX\",\"OOO\"):\n",
    "        return True\n",
    "    if pos_list[2][0] + pos_list[2][1] + pos_list[2][2] in (\"XXX\",\"OOO\"):\n",
    "        return True\n",
    "    if pos_list[0][0] + pos_list[1][1] + pos_list[2][2] in (\"XXX\",\"OOO\"):\n",
    "        return True\n",
    "    if pos_list[0][2] + pos_list[1][1] + pos_list[2][0] in (\"XXX\",\"OOO\"):\n",
    "        return True\n",
    "    elif \" \" not in pos_list[0] and \" \" not in pos_list[1] and \" \" not in pos_list[2]:\n",
    "        return \"Draw\"\n",
    "    else:\n",
    "        return False"
   ]
  },
  {
   "cell_type": "code",
   "execution_count": null,
   "metadata": {},
   "outputs": [],
   "source": [
    "def reset_var():                                          #to reset all the variables back to initial conditions for new game\n",
    "    global pos_list\n",
    "    global p1\n",
    "    global p2\n",
    "    pos_list = [[\" \",\" \",\" \"],[\" \",\" \",\" \"],[\" \",\" \",\" \"]]\n",
    "    p1 = \"\"\n",
    "    p2 = \"\""
   ]
  },
  {
   "cell_type": "code",
   "execution_count": null,
   "metadata": {},
   "outputs": [],
   "source": [
    "def game_loop(fin=False):\n",
    "    global p1\n",
    "    global p2\n",
    "    global pos_list\n",
    "    turn = True           # Used as a simple 2 state variable for determing whose turn it is, True = player 1, False = player 2 \n",
    "    team = \"\"             # Used to keep track of the actual team symbol (O or X) of the player\n",
    "    while fin == False:   # checking if the game is ended or still running\n",
    "        if turn == True:  # checking whose turn it is\n",
    "            team = p1\n",
    "        else:\n",
    "            team = p2\n",
    "        updater(inp_check(input(\"Choose a position to fill: \")),team)     #The main \"game\" choice of picking spot on the board\n",
    "        if win_check() == True:                            #checking for win condition to congratulate appropriately\n",
    "            if turn:                                       #checking which player has won\n",
    "                print(\"Congratulations Player 1! You have won!\")\n",
    "            else:\n",
    "                print(\"Congratulations Player 2! You have won!\")\n",
    "            if input(\"Enter Y to play again or anything else to quit:\") == \"Y\":   #letting player choose to play again or not\n",
    "                reset_var()                                                       #resetting board to initial conditions\n",
    "                game_init()                                                       #starting again\n",
    "            else:\n",
    "                break\n",
    "        elif win_check() == \"Draw\":                                         #checking for draw\n",
    "            print(\"Draw! Too bad, nobody wins.\")\n",
    "            if input(\"Enter Y to play again or anything else to quit:\") == \"Y\":   #letting player choose to play again or not\n",
    "                reset_var()                                                       #resetting board to initial conditions\n",
    "                game_init()                                                       #starting again\n",
    "            else:\n",
    "                break\n",
    "        turn = not(turn)                       #switching to next players turn"
   ]
  },
  {
   "cell_type": "code",
   "execution_count": null,
   "metadata": {},
   "outputs": [],
   "source": [
    "def game_init():           #the function to initialise the game and to restart if the players choose to play again\n",
    "    reset_var()\n",
    "    global p1\n",
    "    global p2\n",
    "    while p1 not in (\"X\",\"O\"):              #Making sure players only choose valid team symbol and forcing retry if not\n",
    "        print('Please only type a valid character for team selection (\"X\" or \"O\")')\n",
    "        p1 = input(\"Player 1, please select your team: \")\n",
    "    if p1 == \"X\":\n",
    "        p2 = \"O\"\n",
    "        print(\"Player 1 will be crosses, Player 2 will be noughts.\")\n",
    "    else:\n",
    "        p2 = \"X\"\n",
    "        print(\"Player 1 will be noughts, Player 2 will be crosses.\")\n",
    "    show_board()\n",
    "    game_loop()"
   ]
  },
  {
   "cell_type": "code",
   "execution_count": null,
   "metadata": {},
   "outputs": [],
   "source": [
    "game_init()"
   ]
  },
  {
   "cell_type": "code",
   "execution_count": null,
   "metadata": {},
   "outputs": [],
   "source": []
  }
 ],
 "metadata": {
  "kernelspec": {
   "display_name": "Python 3",
   "language": "python",
   "name": "python3"
  },
  "language_info": {
   "codemirror_mode": {
    "name": "ipython",
    "version": 3
   },
   "file_extension": ".py",
   "mimetype": "text/x-python",
   "name": "python",
   "nbconvert_exporter": "python",
   "pygments_lexer": "ipython3",
   "version": "3.7.6"
  }
 },
 "nbformat": 4,
 "nbformat_minor": 4
}
